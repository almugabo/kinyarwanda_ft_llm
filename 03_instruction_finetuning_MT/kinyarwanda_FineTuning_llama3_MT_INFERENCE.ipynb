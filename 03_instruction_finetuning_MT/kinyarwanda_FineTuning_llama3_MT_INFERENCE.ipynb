{
 "cells": [
  {
   "cell_type": "markdown",
   "id": "d3179316",
   "metadata": {},
   "source": [
    "## Inference for the experimental model for MT \n",
    "\n"
   ]
  },
  {
   "cell_type": "code",
   "execution_count": 2,
   "id": "664f907f",
   "metadata": {},
   "outputs": [
    {
     "name": "stdout",
     "output_type": "stream",
     "text": [
      "🦥 Unsloth: Will patch your computer to enable 2x faster free finetuning.\n"
     ]
    }
   ],
   "source": [
    "#Import libraries \n",
    "\n",
    "from unsloth import FastLanguageModel\n",
    "import torch\n",
    "\n",
    "from transformers import TrainingArguments\n",
    "from unsloth import is_bfloat16_supported\n",
    "from unsloth import UnslothTrainer, UnslothTrainingArguments\n",
    "\n",
    "\n",
    "from datasets import load_dataset\n",
    "from datasets import Dataset\n",
    "\n",
    "import json \n",
    "import pandas as pd \n",
    "\n",
    "import random \n",
    "\n",
    "\n"
   ]
  },
  {
   "cell_type": "code",
   "execution_count": null,
   "id": "df56f98c",
   "metadata": {},
   "outputs": [],
   "source": []
  },
  {
   "cell_type": "markdown",
   "id": "44e2cc89",
   "metadata": {},
   "source": [
    "## 1 . loading the model & fine-tuning parameters "
   ]
  },
  {
   "cell_type": "code",
   "execution_count": 3,
   "id": "01c7f601",
   "metadata": {},
   "outputs": [
    {
     "name": "stdout",
     "output_type": "stream",
     "text": [
      "==((====))==  Unsloth: Fast Llama patching release 2024.6\n",
      "   \\\\   /|    GPU: NVIDIA GeForce RTX 4090. Max memory: 23.647 GB. Platform = Linux.\n",
      "O^O/ \\_/ \\    Pytorch: 2.3.0. CUDA = 8.9. CUDA Toolkit = 12.1.\n",
      "\\        /    Bfloat16 = TRUE. Xformers = 0.0.26.post1. FA = False.\n",
      " \"-____-\"     Free Apache license: http://github.com/unslothai/unsloth\n"
     ]
    },
    {
     "name": "stderr",
     "output_type": "stream",
     "text": [
      "Special tokens have been added in the vocabulary, make sure the associated word embeddings are fine-tuned or trained.\n",
      "Unsloth 2024.6 patched 32 layers with 32 QKV layers, 32 O layers and 32 MLP layers.\n"
     ]
    }
   ],
   "source": [
    "# we use unsloth & here we load the model \n",
    "\n",
    "max_seq_length = 2048 # this can be adapted for longer context \n",
    "dtype = None # the datatype will be auto-detected : Float16 for Tesla T4, V100, Bfloat16 for Ampere+\n",
    "load_in_4bit = True # we use 4bit quantization to reduce memory usage. \n",
    "\n",
    "# pre-trained model \n",
    "\n",
    "xmodel = '/home/mike/xGitHubRepos/kinyarwanda_ft_llm/03_instruction_finetuning_MT/llamarwanda_MT_v1'\n",
    "\n",
    "model, tokenizer = FastLanguageModel.from_pretrained(\n",
    "    model_name = xmodel , \n",
    "    max_seq_length = max_seq_length,\n",
    "    dtype = dtype,\n",
    "    load_in_4bit = load_in_4bit,\n",
    ")\n",
    "\n"
   ]
  },
  {
   "cell_type": "code",
   "execution_count": 4,
   "id": "3181899c",
   "metadata": {},
   "outputs": [],
   "source": [
    "FastLanguageModel.for_inference(model) # Enable native 2x faster inference\""
   ]
  },
  {
   "cell_type": "code",
   "execution_count": null,
   "id": "1d9591bf",
   "metadata": {},
   "outputs": [],
   "source": []
  },
  {
   "cell_type": "code",
   "execution_count": 8,
   "id": "d90fd641",
   "metadata": {},
   "outputs": [],
   "source": [
    "def eval_translate_kin_en(xtext):\n",
    "    '''\n",
    "    apply template to kin_en \n",
    "    '''\n",
    "    x1 = 'translate the following text from kinyarwanda to english'\n",
    "    messages=[{ 'role': 'user', 'content': x1},\n",
    "              { 'role': 'user', 'content': xtext }] \n",
    "    inputs = tokenizer.apply_chat_template(messages, tokenize=False, add_generation_prompt=True)\n",
    "    return inputs\n",
    "    \n",
    "def eval_translate_en_kin(xtext):\n",
    "    '''\n",
    "    apply template to kin_en \n",
    "    '''\n",
    "    x1 = 'translate the following text from english to kinyarwanda'\n",
    "\n",
    "    messages=[{ 'role': 'user', 'content': x1},\n",
    "              { 'role': 'user', 'content': xtext }]\n",
    "    inputs = tokenizer.apply_chat_template(messages, tokenize=False, add_generation_prompt=True)\n",
    "    return inputs\n",
    "\n",
    "\n",
    "    '''\n",
    "    translate from Kinyarwanda to english \n",
    "    '''\n",
    "    \n",
    "    #apply template \n",
    "    xtpl = eval_translate_kin_en(xtext)\n",
    "    xinputs = tokenizer(xtpl , return_tensors = \"pt\").to(\"cuda\")\n",
    "    outputs = model.generate(**xinputs, max_new_tokens = 500, use_cache = True)\n",
    "    q1 = tokenizer.batch_decode(outputs)[0]\n",
    "    #extract the part \n",
    "    q2 = q1.split('assistant\\n')[1].split('<|im_end|>')[0]\n",
    "    return q2 \n",
    "\n",
    "\n",
    "def trans_kin_en(xtext):\n",
    "    '''\n",
    "    translate from Kinyarwanda to english \n",
    "    '''\n",
    "    \n",
    "    #apply template \n",
    "    xtpl = eval_translate_kin_en(xtext)\n",
    "    xinputs = tokenizer(xtpl , return_tensors = \"pt\").to(\"cuda\")\n",
    "    outputs = model.generate(**xinputs, max_new_tokens = 500, use_cache = True)\n",
    "    q1 = tokenizer.batch_decode(outputs)[0]\n",
    "    #extract the part \n",
    "    q2 = q1.split('assistant\\n')[1].split('<|im_end|>')[0]\n",
    "    return q2 \n",
    "\n",
    "\n",
    "def trans_en_kin(xtext):\n",
    "    '''\n",
    "    translate from english to Kinyarwanda \n",
    "    '''\n",
    "    \n",
    "    #apply template \n",
    "    xtpl = eval_translate_en_kin(xtext)\n",
    "    xinputs = tokenizer(xtpl , return_tensors = \"pt\").to(\"cuda\")\n",
    "    outputs = model.generate(**xinputs, max_new_tokens = 500, use_cache = True)\n",
    "    q1 = tokenizer.batch_decode(outputs)[0]\n",
    "    #extract the part \n",
    "    q2 = q1.split('assistant\\n')[1].split('<|im_end|>')[0]\n",
    "    return q2 "
   ]
  },
  {
   "cell_type": "markdown",
   "id": "f9650b0d",
   "metadata": {},
   "source": [
    "## Kinyarwanda to English "
   ]
  },
  {
   "cell_type": "code",
   "execution_count": 9,
   "id": "9d56fbd5",
   "metadata": {},
   "outputs": [
    {
     "name": "stderr",
     "output_type": "stream",
     "text": [
      "No chat template is set for this tokenizer, falling back to a default class-level template. This is very error-prone, because models are often trained with templates different from the class default! Default chat templates are a legacy feature and will be removed in Transformers v4.43, at which point any code depending on them will stop working. We recommend setting a valid chat template before then to ensure that this model continues working without issues.\n",
      "Setting `pad_token_id` to `eos_token_id`:128001 for open-end generation.\n",
      "Setting `pad_token_id` to `eos_token_id`:128001 for open-end generation.\n"
     ]
    },
    {
     "name": "stdout",
     "output_type": "stream",
     "text": [
      "text kinyarwanda: Israel yasabye abahungiye mu Majyepfo ya Gaza kongera guhungira aho bavuye\n",
      "text english: Israel has asked those who fled from the southern Gaza Strip to return\n",
      "-----\n"
     ]
    },
    {
     "name": "stderr",
     "output_type": "stream",
     "text": [
      "Setting `pad_token_id` to `eos_token_id`:128001 for open-end generation.\n"
     ]
    },
    {
     "name": "stdout",
     "output_type": "stream",
     "text": [
      "text kinyarwanda: Bugarama: Inkomoko y’umuco wo gushyingura umuntu babyina\n",
      "text english: Bugarama: The origin of the culture of dancing at a funeral\n",
      "-----\n"
     ]
    },
    {
     "name": "stderr",
     "output_type": "stream",
     "text": [
      "Setting `pad_token_id` to `eos_token_id`:128001 for open-end generation.\n"
     ]
    },
    {
     "name": "stdout",
     "output_type": "stream",
     "text": [
      "text kinyarwanda: Perezida Biden yitiranyije u Bufaransa n’u Butaliyani\n",
      "text english: President Biden confused France with Italy\n",
      "-----\n"
     ]
    },
    {
     "name": "stderr",
     "output_type": "stream",
     "text": [
      "Setting `pad_token_id` to `eos_token_id`:128001 for open-end generation.\n"
     ]
    },
    {
     "name": "stdout",
     "output_type": "stream",
     "text": [
      "text kinyarwanda: Ishyaka ritavuga rumwe na Perezida Macron ryatsinze icyiciro cya mbere cy’amatora y’abadepite\n",
      "text english: The party of the President of France did not win the first round of the elections\n",
      "-----\n"
     ]
    },
    {
     "name": "stderr",
     "output_type": "stream",
     "text": [
      "Setting `pad_token_id` to `eos_token_id`:128001 for open-end generation.\n"
     ]
    },
    {
     "name": "stdout",
     "output_type": "stream",
     "text": [
      "text kinyarwanda: Museveni yabwiye urubyiruko imyaka myiza yo gukora imibonano mpuzabitsina\n",
      "text english: Museveni told young people the best age to have sex\n",
      "-----\n"
     ]
    },
    {
     "name": "stderr",
     "output_type": "stream",
     "text": [
      "Setting `pad_token_id` to `eos_token_id`:128001 for open-end generation.\n"
     ]
    },
    {
     "name": "stdout",
     "output_type": "stream",
     "text": [
      "text kinyarwanda: Ibibazo bitanu wibaza ku modoka zikoresha amashanyarazi mu Rwanda, n’ibisubizo byabyo\n",
      "text english: Five questions about electric cars in Rwanda, and their answers\n",
      "-----\n"
     ]
    },
    {
     "name": "stderr",
     "output_type": "stream",
     "text": [
      "Setting `pad_token_id` to `eos_token_id`:128001 for open-end generation.\n"
     ]
    },
    {
     "name": "stdout",
     "output_type": "stream",
     "text": [
      "text kinyarwanda: Ese Iran ishobora gufasha Hezbollah mu ntambara na Israel?\n",
      "text english: Can Iran help Hezbollah in the war with Israel?\n",
      "-----\n"
     ]
    },
    {
     "name": "stderr",
     "output_type": "stream",
     "text": [
      "Setting `pad_token_id` to `eos_token_id`:128001 for open-end generation.\n"
     ]
    },
    {
     "name": "stdout",
     "output_type": "stream",
     "text": [
      "text kinyarwanda: Hagaragajwe uruhare rw’abajyanama b’ubuzima mu kurwanya indwara z’ibyorezo\n",
      "text english: The role of health counselors in preventing epidemics has been highlighted\n",
      "-----\n"
     ]
    },
    {
     "name": "stderr",
     "output_type": "stream",
     "text": [
      "Setting `pad_token_id` to `eos_token_id`:128001 for open-end generation.\n"
     ]
    },
    {
     "name": "stdout",
     "output_type": "stream",
     "text": [
      "text kinyarwanda: Euro 2024: Espagne yandagaje Georgie isanga u Budage muri ¼\n",
      "text english: Euro 2024: Spain humiliates Georgia and meets Germany in the quarterfinals\n",
      "-----\n",
      "text kinyarwanda: Perezida Kagame na Motsepe wa CAF batashye Stade Amahoro nshya\n",
      "text english: President Kagame and Motsepe of CAF return to Amahoro Stadium\n",
      "-----\n"
     ]
    }
   ],
   "source": [
    "## texts are taken from the headlines of https://igihe.com/index.php\n",
    "## on 2 July 2024 \n",
    "\n",
    "\n",
    "\n",
    "xtexts = ['Israel yasabye abahungiye mu Majyepfo ya Gaza kongera guhungira aho bavuye',\n",
    "         'Bugarama: Inkomoko y’umuco wo gushyingura umuntu babyina',\n",
    "         'Perezida Biden yitiranyije u Bufaransa n’u Butaliyani',\n",
    "         'Ishyaka ritavuga rumwe na Perezida Macron ryatsinze icyiciro cya mbere cy’amatora y’abadepite',\n",
    "         'Museveni yabwiye urubyiruko imyaka myiza yo gukora imibonano mpuzabitsina',\n",
    "         'Ibibazo bitanu wibaza ku modoka zikoresha amashanyarazi mu Rwanda, n’ibisubizo byabyo',\n",
    "          'Ese Iran ishobora gufasha Hezbollah mu ntambara na Israel?',\n",
    "          'Hagaragajwe uruhare rw’abajyanama b’ubuzima mu kurwanya indwara z’ibyorezo',\n",
    "          'Euro 2024: Espagne yandagaje Georgie isanga u Budage muri ¼',\n",
    "          'Perezida Kagame na Motsepe wa CAF batashye Stade Amahoro nshya'\n",
    "         ]\n",
    "\n",
    "for xtext in xtexts :\n",
    "    x = trans_kin_en(xtext)\n",
    "    print('text kinyarwanda:', xtext)\n",
    "    print('text english:',  x)    \n",
    "    print('-----')\n",
    "    "
   ]
  },
  {
   "cell_type": "markdown",
   "id": "0575abcb",
   "metadata": {},
   "source": [
    "## English to Kinyarwanda "
   ]
  },
  {
   "cell_type": "code",
   "execution_count": null,
   "id": "b443557e",
   "metadata": {},
   "outputs": [],
   "source": []
  },
  {
   "cell_type": "code",
   "execution_count": 10,
   "id": "b80fc0a6",
   "metadata": {},
   "outputs": [
    {
     "name": "stderr",
     "output_type": "stream",
     "text": [
      "Setting `pad_token_id` to `eos_token_id`:128001 for open-end generation.\n",
      "Setting `pad_token_id` to `eos_token_id`:128001 for open-end generation.\n"
     ]
    },
    {
     "name": "stdout",
     "output_type": "stream",
     "text": [
      "text english: Marine Le Pen says National Rally should not try to form government without a majority\n",
      "text Kinyarwanda: Marine Le Pen avuga ko Ishyaka rye rikwiriye gukomeza kuba irya kabiri\n",
      "-----\n"
     ]
    },
    {
     "name": "stderr",
     "output_type": "stream",
     "text": [
      "Setting `pad_token_id` to `eos_token_id`:128001 for open-end generation.\n"
     ]
    },
    {
     "name": "stdout",
     "output_type": "stream",
     "text": [
      "text english: Far-right politician says National Rally ‘wish to govern’ France but cannot do so properly without a majority\n",
      "text Kinyarwanda: Umunyapolitike wo ku ruhande rwa kure yavuze ko Ishyaka riharanira ubudahangarwa ryifuzaga gutegeka Ubufaransa ariko ntirishobora kubikora neza kubera ko ritagira ubwiganze mu Nteko Ishingamategeko.\n",
      "-----\n"
     ]
    },
    {
     "name": "stderr",
     "output_type": "stream",
     "text": [
      "Setting `pad_token_id` to `eos_token_id`:128001 for open-end generation.\n"
     ]
    },
    {
     "name": "stdout",
     "output_type": "stream",
     "text": [
      "text english: Portugal and Ronaldo save face as Costa’s shootout heroics sink Slovenia\n",
      "text Kinyarwanda: Ubu Portugal na Ronaldo bakize isura nyuma yuko umuhigo wa Costa ushyizeho akadomo\n",
      "-----\n"
     ]
    },
    {
     "name": "stderr",
     "output_type": "stream",
     "text": [
      "Setting `pad_token_id` to `eos_token_id`:128001 for open-end generation.\n"
     ]
    },
    {
     "name": "stdout",
     "output_type": "stream",
     "text": [
      "text english: Greece introduces ‘growth-oriented’ six-day working week\n",
      "text Kinyarwanda: Ubugereki bwashyizeho icyumweru cyakazi cyiminsi itandatu yiterambere\n",
      "-----\n"
     ]
    },
    {
     "name": "stderr",
     "output_type": "stream",
     "text": [
      "Setting `pad_token_id` to `eos_token_id`:128001 for open-end generation.\n"
     ]
    },
    {
     "name": "stdout",
     "output_type": "stream",
     "text": [
      "text english: Biden denounces supreme court decision on Trump immunity: ‘He’ll be more emboldened’\n",
      "text Kinyarwanda: Biden yamagana icyo cyemezo cya Supreme Court ku burenganzira bwa Trump: Azarushaho kwihagararaho\n",
      "-----\n"
     ]
    },
    {
     "name": "stderr",
     "output_type": "stream",
     "text": [
      "Setting `pad_token_id` to `eos_token_id`:128001 for open-end generation.\n"
     ]
    },
    {
     "name": "stdout",
     "output_type": "stream",
     "text": [
      "text english: At least 39 killed in Kenya’s anti-tax protests, says rights watchdog\n",
      "text Kinyarwanda: Byibuze 39 bishwe muri Kenya nyuma yimvururu zo kurwanya umusoro\n",
      "-----\n"
     ]
    },
    {
     "name": "stderr",
     "output_type": "stream",
     "text": [
      "Setting `pad_token_id` to `eos_token_id`:128001 for open-end generation.\n"
     ]
    },
    {
     "name": "stdout",
     "output_type": "stream",
     "text": [
      "text english: Girmay first black African to win Tour de France stage\n",
      "text Kinyarwanda: Girmay yabaye Umunyafurika wambere wirabura ubonye etape muri Tour de France\n",
      "-----\n"
     ]
    },
    {
     "name": "stderr",
     "output_type": "stream",
     "text": [
      "Setting `pad_token_id` to `eos_token_id`:128001 for open-end generation.\n"
     ]
    },
    {
     "name": "stdout",
     "output_type": "stream",
     "text": [
      "text english: Suspected female suicide bombers death toll rises to 32 in Nigeria\n",
      "text Kinyarwanda: Abagore babiri bakekwaho kwiyahura batewe igisasu cyo mu gikari cyo mu gikari\n",
      "-----\n"
     ]
    },
    {
     "name": "stderr",
     "output_type": "stream",
     "text": [
      "Setting `pad_token_id` to `eos_token_id`:128001 for open-end generation.\n"
     ]
    },
    {
     "name": "stdout",
     "output_type": "stream",
     "text": [
      "text english: The Moroccan man sentenced to death for fighting for Ukraine\n",
      "text Kinyarwanda: Umugabo wumunya Maroke wahanishijwe igihano cyo kumwica amaze gufatirwa kurugamba rwo gufasha Ukraine\n",
      "-----\n",
      "text english: Zelensky sacks top general accused of incompetence\n",
      "text Kinyarwanda: Zelensky yirukanye umugaba wingabo wari ushinzwe ibirimo kubera muri Donbas\n",
      "-----\n"
     ]
    }
   ],
   "source": [
    "##  headlines from the Guardian and BBC on 2 July 2024 \n",
    "\n",
    "\n",
    "xtexts = ['Marine Le Pen says National Rally should not try to form government without a majority',\n",
    "          'Far-right politician says National Rally ‘wish to govern’ France but cannot do so properly without a majority',\n",
    "          'Portugal and Ronaldo save face as Costa’s shootout heroics sink Slovenia',\n",
    "          'Greece introduces ‘growth-oriented’ six-day working week',\n",
    "          'Biden denounces supreme court decision on Trump immunity: ‘He’ll be more emboldened’',\n",
    "          'At least 39 killed in Kenya’s anti-tax protests, says rights watchdog',\n",
    "          'Girmay first black African to win Tour de France stage',\n",
    "          'Suspected female suicide bombers death toll rises to 32 in Nigeria',\n",
    "          'The Moroccan man sentenced to death for fighting for Ukraine',\n",
    "         'Zelensky sacks top general accused of incompetence']\n",
    "          \n",
    "\n",
    "\n",
    "for xtext in xtexts :\n",
    "    x = trans_en_kin(xtext)\n",
    "    print('text english:', xtext)\n",
    "    print('text Kinyarwanda:',  x)    \n",
    "    print('-----')"
   ]
  },
  {
   "cell_type": "code",
   "execution_count": null,
   "id": "98a6a702",
   "metadata": {},
   "outputs": [],
   "source": []
  },
  {
   "cell_type": "code",
   "execution_count": null,
   "id": "19ded535",
   "metadata": {},
   "outputs": [],
   "source": []
  },
  {
   "cell_type": "code",
   "execution_count": null,
   "id": "1b6aefc4",
   "metadata": {},
   "outputs": [],
   "source": []
  }
 ],
 "metadata": {
  "kernelspec": {
   "display_name": "Python (xLLM_unsloth)",
   "language": "python",
   "name": "xllm_unsloth"
  },
  "language_info": {
   "codemirror_mode": {
    "name": "ipython",
    "version": 3
   },
   "file_extension": ".py",
   "mimetype": "text/x-python",
   "name": "python",
   "nbconvert_exporter": "python",
   "pygments_lexer": "ipython3",
   "version": "3.10.14"
  }
 },
 "nbformat": 4,
 "nbformat_minor": 5
}
