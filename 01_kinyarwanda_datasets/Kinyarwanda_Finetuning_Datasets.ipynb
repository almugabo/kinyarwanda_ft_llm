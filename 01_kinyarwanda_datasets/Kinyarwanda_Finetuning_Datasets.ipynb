{
 "cells": [
  {
   "cell_type": "markdown",
   "id": "2a60cb71",
   "metadata": {},
   "source": [
    "# Kinyarwanda datasets for fine-tuning "
   ]
  },
  {
   "cell_type": "markdown",
   "id": "a863a3f3",
   "metadata": {},
   "source": [
    "datasets which an be used to explore the potential of fine-tuning LLM to work on Kinyarwanda\n",
    "\n",
    "\n",
    "**1. mono-lingual corpora**\n",
    "\n",
    "those are just texts in Kinyarwanda \n",
    "\n",
    "**2. parallel corpora**\n",
    "\n",
    "texts in kinyarwanda which are associated with translation in other langauges \n",
    "\n",
    "**3. instruction corpora**\n",
    "\n",
    "text which are suitable for instruction fine-tuning \n",
    "\n",
    "**4. other **\n",
    "\n",
    "other type of text \n",
    "\n",
    "\n",
    "This jupyter notebook contains scripts to prepare the datasets in moer or less same format for simpler use in finetuning "
   ]
  },
  {
   "cell_type": "markdown",
   "id": "dcbf14c6",
   "metadata": {},
   "source": []
  },
  {
   "cell_type": "code",
   "execution_count": null,
   "id": "632a6766",
   "metadata": {},
   "outputs": [],
   "source": [
    "## import needed libraries "
   ]
  },
  {
   "cell_type": "code",
   "execution_count": 1,
   "id": "b6a77911",
   "metadata": {},
   "outputs": [],
   "source": [
    "\n",
    "import json\n",
    "import os \n",
    "from datasets import load_dataset"
   ]
  },
  {
   "cell_type": "markdown",
   "id": "002a1d1e",
   "metadata": {},
   "source": [
    "## 2. Monolingual corpora"
   ]
  },
  {
   "cell_type": "markdown",
   "id": "ee04bba6",
   "metadata": {},
   "source": [
    "### 2.1 Wikipedia \n",
    "\n",
    "- Wikipemedia foundation released on huggingface a dataset containing the cleaned articles of all languages \n",
    "\n",
    "- the dataset corresponds to wikipedia from 01 November 2023 \n",
    "\n",
    "- the kinyarwanda dataset is **20231101.rw**\n",
    "\n",
    "- it contains xxx rows and can be explored here : https://huggingface.co/datasets/wikimedia/wikipedia/viewer/20231101.rw\n"
   ]
  },
  {
   "cell_type": "code",
   "execution_count": 4,
   "id": "05fb6400",
   "metadata": {},
   "outputs": [
    {
     "name": "stdout",
     "output_type": "stream",
     "text": [
      "number of texts: 8063\n",
      "example:\n",
      " {'id': '1651', 'url': 'https://rw.wikipedia.org/wiki/Afurika', 'title': 'Afurika', 'text': 'Afurika ni umugabane wa kabiri ku isi nini kandi wa kabiri utuwe cyane, nyuma ya  Aziya mubice byombi. Kuri kilometero zigera kuri 30.3 km2 (kilometero kare miliyoni 11.7) harimo ibirwa byegeranye, bifite 20% byubutaka bwisi na 6% byubuso bwose. Hafi ya miliyari 1.4 kugeza mu 2021, bingana na 18% by\\'abatuye isi. Abatuye Afurika ni bato mu migabane yose; imyaka yo hagati muri 2012 yari 19.7, mugihe isi yo hagati yisi yari 30.4. Nubwo umutungo kamere utandukanye, Afurika nu mugabane ukize cyane ku mugabane wa buri muntu kandi uwa kabiri ukize cyane ku butunzi bwose, inyuma ya Oseyaniya. Intiti zabyitiriye ibintu bitandukanye birimo geografiya, ikirere, amoko, ubukoloni, Intambara y\\'ubutita, neocolonialism, kubura demokarasi, na ruswa. Nubwo ubwo butunzi bwibanze cyane, kwagura ubukungu vuba hamwe n’abaturage benshi n’urubyiruko bituma Afurika iba isoko ry’ubukungu ku isi hose.\\n\\nUmugabane uzengurutswe n\\'Inyanja ya Mediterane mu majyaruguru, Isthmus ya Suez n\\'Inyanja Itukura mu majyaruguru y\\'uburasirazuba, inyanja y\\'Ubuhinde mu majyepfo y\\'iburasirazuba n\\'inyanja ya Atalantika iburengerazuba. Umugabane urimo Madagasikari n\\'ibirwa bitandukanye. Irimo ibihugu 54 byigenga byemewe, intara umunani n’ibihugu bibiri byigenga bifite aho bigarukira cyangwa bitamenyekana. Alijeriya nicyo gihugu kinini muri Afurika ku karere, na Nijeriya nicyo kinini mu baturage. Ibihugu by\\'Afurika bifatanya binyuze mu ishyirwaho ry’umuryango w’ubumwe bw’Afurika, rifite icyicaro i Addis Abeba..\\n\\nAfurika ikurikirana ekwateri na meridian yibanze. Numugabane wonyine urambuye uva mu majyaruguru yubushyuhe ugana mu majyepfo yubushyuhe. Igice kinini cyumugabane n’ibihugu byacyo biri mu gice cy’amajyaruguru, gifite igice kinini n’umubare w’ibihugu byo mu majyepfo y’isi. Igice kinini cy\\'umugabane kiri mu turere dushyuha, usibye igice kinini cya Sahara y\\'Uburengerazuba, Alijeriya, Libiya na Misiri, mu majyaruguru ya Mauritania, n\\'uturere twose twa Maroc, Ceuta, Melilla, na Tuniziya na byo bikaba biri hejuru ya tropic ya Kanseri, mu majyaruguru yubushyuhe. Mu bundi buryo bukabije bw’umugabane, amajyepfo ya Namibiya, Botswana y’amajyepfo, uduce twinshi twa Afurika yepfo, intara zose za Lesotho na Eswatini hamwe n’amajyepfo ya Mozambike na Madagasikari biherereye munsi y’ubushyuhe bwa Capricorn, mu majyepfo y’ubushyuhe.\\n\\nAfurika ni ibinyabuzima bitandukanye; ni umugabane ufite umubare munini w’amoko ya megafauna, kubera ko utagize ingaruka cyane ku kuzimangana kwa megafauna ya Pleistocene. Icyakora, Afurika nayo yibasiwe cyane n’ibibazo byinshi by’ibidukikije, birimo ubutayu, gutema amashyamba, ibura ry’amazi n’umwanda. Izi mpungenge zishingiye ku bidukikije ziteganijwe kwiyongera kubera ko imihindagurikire y’ikirere igira ingaruka muri Afurika. Itsinda ry’umuryango w’abibumbye ryita ku mihindagurikire y’ibihe ryagaragaje ko Afurika ari umugabane wibasiwe n’imihindagurikire y’ikirere  \\n\\nAmateka ya Afrika ni maremare, aragoye, kandi yakunze gushimwa n’umuryango w’amateka ku isi. Afurika, cyane cyane Afurika y\\'Iburasirazuba, yemerwa cyane nk\\'ahantu abantu bakomoka ndetse no mu bwoko bwa Hominidae (inguge nini). Hominide ya mbere na basekuruza babo yanditswe mu myaka igera kuri miliyoni 7 ishize, harimo Sahelanthropus tchadensis, Australopithecus africanus, A. afarensis, Homo erectus, H. habilis na H. ergaster - ibisigazwa bya Homo sapiens ya mbere (abantu ba none), biboneka muri Etiyopiya, Afurika y\\'Epfo, na Maroc, guhera mu myaka 233.000, 259.000, na 300.000 mu myaka yashize, kandi bivugwa ko Homo sapiens yakomotse muri Afurika mu myaka 350.000-226.000 ishize. Afurika nayo ifatwa naba antropropologiste ko ari umugabane utandukanye wa genetike bitewe no kuba utuwe cyane.   \\n\\nImico yabantu ya mbere, nka Egiputa ya kera na Carthage byagaragaye muri Afrika yepfo. Nyuma y’amateka maremare kandi akomeye y’umuco, kwimuka n’ubucuruzi, Afurika yakiriye amoko menshi, imico n’indimi. Mu myaka 400 ishize hagaragaye uruhare rw’iburayi ku mugabane wa Afurika. Guhera mu kinyejana cya 16, ibyo byatewe n\\'ubucuruzi, harimo n\\'ubucuruzi bw\\'abacakara ba Trans-Atlantike, bwateje abaturage benshi ba diaspora bo muri Afurika muri Amerika. Kuva mu mpera z\\'ikinyejana cya 19 kugeza mu ntangiriro z\\'ikinyejana cya 20, ibihugu by\\'i  Burayi byakoronije hafi ya Afurika yose, bigera aho Etiyopiya na Liberiya byonyine byari abapolisi bigenga. Ibihugu byinshi biriho muri Afurika byavuye mu nzira ya decolonisation nyuma y’Intambara ya Kabiri y\\'Isi Yose.\\n\\nEtymology \\n\\nAfri yari izina ry\\'ikilatini ryakoreshwaga ryerekeza ku baturage bo muri Afurika y\\'amajyaruguru yari azwi mu burengerazuba bw\\'umugezi wa Nili, kandi mu buryo bwagutse ryerekeza ku bihugu byose byo mu majyepfo ya Mediterane (Libiya ya kera). Iri zina risa nkaho ryabanje kuvuga ubwoko bwa kavukire bwa Libiya, umukurambere wa Berber ya none; reba Terence yo kuganira. Iri zina ubusanzwe ryari rifitanye isano n\\'ijambo ry\\'Abanyafenisiya ʿafar risobanura \"umukungugu\", ariko hypothesis yo mu 1981 yemeje ko rikomoka ku ijambo rya Berber ifri (ifran nyinshi) risobanura \"ubuvumo\", ryerekeza ku batuye mu buvumo. Ijambo rimwe rishobora kuboneka mu izina rya Banu Ifran ukomoka muri Alijeriya na Tripolitania, umuryango wa Berber ukomoka muri Yafran (uzwi kandi ku izina rya Ifrane) mu majyaruguru y\\'uburengerazuba bwa Libiya, ndetse n\\'umujyi wa Ifrane muri Maroc.\\n\\nKu butegetsi bw\\'Abaroma, Carthage yabaye umurwa mukuru w\\'intara icyo gihe yise Africa Proconsularis, nyuma yo gutsindwa na Carthagine mu ntambara ya gatatu y\\'ibihano mu 146 MIC, yari irimo igice cyo ku nkombe za Libiya ya none. Umugereka w\\'ikilatini -ica urashobora rimwe na rimwe gukoreshwa mu kwerekana igihugu (urugero, muri Celtica kuva muri Celtae, nkuko byakoreshejwe na Julius Caesar). Agace k\\'abayisilamu nyuma ya Ifriqiya, nyuma yo kwigarurira ubwami bwa Byzantine (Uburasirazuba bw\\'Abaroma) Exarchatus Africae, nabwo bwarinze ubwoko bw\\'izina.\\n\\nNk’uko Abanyaroma babivuga, Afurika iri mu burengerazuba bwa Misiri, mu gihe \"Aziya\" yakoreshwaga yerekeza kuri Anatoliya n\\'ubutaka mu burasirazuba. Umurongo utomoye washyizweho hagati y’umugabane w’ibihugu byombi n’umuhanga mu bumenyi bw’isi witwa Ptolémée (85-165 GC), werekana Alegizandiriya hafi ya Meridiya ya mbere kandi bigatuma isthus ya Suez n’Inyanja Itukura umupaka uhuza Aziya na Afurika. Mugihe Abanyaburayi basobanukiwe n’urugero nyarwo rw’umugabane, igitekerezo cya \"Afurika\" cyagutse n\\'ubumenyi bwabo.\\n\\nIbindi bitekerezo bya etymologiya byashyizwe ku izina rya kera \"Afurika\"\\nImigabane y’Isi\\nAfurika'}\n"
     ]
    }
   ],
   "source": [
    "\n",
    "\n",
    "dataset = load_dataset(\"wikimedia/wikipedia\", \"20231101.rw\")['train']\n",
    "\n",
    "print('number of texts:', len(dataset)) \n",
    "\n",
    "print('example:\\n', dataset[3])\n"
   ]
  },
  {
   "cell_type": "code",
   "execution_count": 5,
   "id": "6dc4b24d",
   "metadata": {},
   "outputs": [
    {
     "name": "stdout",
     "output_type": "stream",
     "text": [
      "done\n"
     ]
    }
   ],
   "source": [
    "## save to json_l file \n",
    "\n",
    "with open('kinyarwanda_monolingual_wikipedia20231101.jsonl', 'w') as xfile:\n",
    "    # Iterate over the dataset \n",
    "    for xnr, xtext in enumerate(dataset):\n",
    "        xfile.write(json.dumps(xtext) + '\\n')\n",
    "        #if xnr == 10:\n",
    "        #    break\n",
    "            \n",
    "print('done')  \n",
    "    \n"
   ]
  },
  {
   "cell_type": "markdown",
   "id": "7381c646",
   "metadata": {},
   "source": [
    "### 2.2  Kinyarwanda news \n",
    "\n",
    "- Kinyarwanda news is a dataset create by Nzeyimana, A., & Niyongabo Rubungo, A. (2022)\n",
    "- Reference: \n",
    "\n",
    "Nzeyimana, A., & Niyongabo Rubungo, A. (2022). KinyaBERT: a Morphology-aware Kinyarwanda Language Model. ArXiv, abs/2203.08459.\n",
    "\n",
    "\n",
    "- dataset which kas about 25k articles is accessible here https://github.com/anzeyimana/kinyabert-acl2022\n",
    "\n",
    "\n",
    "- in this script we format it to have the text body 'txt' which consist of the title and the text of the article  \n",
    "\n"
   ]
  },
  {
   "cell_type": "code",
   "execution_count": 2,
   "id": "704851dc",
   "metadata": {},
   "outputs": [
    {
     "name": "stdout",
     "output_type": "stream",
     "text": [
      "25724\n"
     ]
    }
   ],
   "source": [
    "\n",
    "xFld = '/home/mike/Downloads/kinyabert-acl2022-master/datasets/RW_NEWS/original/'\n",
    "\n",
    "xlst_texts = []\n",
    "\n",
    "for xfile in os.listdir(xFld):\n",
    "    qq1 = xFld + xfile\n",
    "\n",
    "\n",
    "    with open(qq1, 'r') as xff:\n",
    "        xtext_collection = xff.read()\n",
    "        xtexts =  xtext_collection.split('\\n\\n')\n",
    "        for xtext_all in xtexts:\n",
    "            if xtext_all:\n",
    "                xtext_line1 = xtext_all.split('\\n')[0]\n",
    "                xtext = xtext_all.replace(xtext_line1+'\\n', '')\n",
    "\n",
    "                xid_1, xid_2, xlabel, xurl = xtext_line1.split('\\t')\n",
    "                xtext_dict = {}\n",
    "                xtext_dict['id_1'] = xid_1\n",
    "                xtext_dict['id_2'] = xid_2\n",
    "                xtext_dict['label'] = xlabel\n",
    "                xtext_dict['url'] = xurl \n",
    "                xtext_dict['text'] = xtext  \n",
    "                xlst_texts.append(xtext_dict)\n",
    "        \n",
    "        \n",
    "\n",
    "        \n",
    "    \n",
    "with open('kinyarwanda_monolingual_rwandannews.jsonl', 'w') as xfile:\n",
    "    # Iterate over the dataset \n",
    "    for xnr, xtext in enumerate(xlst_texts):\n",
    "        xfile.write(json.dumps(xtext) + '\\n')\n",
    "        #if xnr == 10:\n",
    "        #    break\n",
    "            \n",
    "print(len(xlst_texts ))      "
   ]
  },
  {
   "cell_type": "code",
   "execution_count": null,
   "id": "b23aefce",
   "metadata": {},
   "outputs": [],
   "source": []
  },
  {
   "cell_type": "code",
   "execution_count": null,
   "id": "3d2fc04f",
   "metadata": {},
   "outputs": [],
   "source": []
  },
  {
   "cell_type": "markdown",
   "id": "e0e1b6f1",
   "metadata": {},
   "source": [
    "## count tokens "
   ]
  },
  {
   "cell_type": "code",
   "execution_count": null,
   "id": "4fd3b576",
   "metadata": {},
   "outputs": [],
   "source": [
    "\n",
    "# we use Llama3 tokenizers to count the tokens \n",
    "from transformers import AutoTokenizer\n",
    "# Load the Llama 3 tokenizer (non-gated model)\n",
    "tokenizer = AutoTokenizer.from_pretrained(\"NousResearch/Meta-Llama-3-8B-Instruct\", use_fast=True)\n",
    "\n",
    "def tokenize_and_count(xText):\n",
    "    '''count tokens:\n",
    "    we just count text by text. \n",
    "    function can be improve to run in parallel\n",
    "    '''\n",
    "    # Tokenize the text \n",
    "    tokens = tokenizer(xText, truncation=False, padding=False, return_length=True)\n",
    "    xlen_words = len(xText.split(' '))\n",
    "    xlen_tokens = tokens['length'][0]\n",
    "    xdict = {'length_words': xlen_words, 'length_tokens': xlen_tokens }\n",
    "    return xdict\n"
   ]
  },
  {
   "cell_type": "code",
   "execution_count": null,
   "id": "d47d7a58",
   "metadata": {},
   "outputs": [],
   "source": []
  }
 ],
 "metadata": {
  "kernelspec": {
   "display_name": "Python 3 (ipykernel)",
   "language": "python",
   "name": "python3"
  },
  "language_info": {
   "codemirror_mode": {
    "name": "ipython",
    "version": 3
   },
   "file_extension": ".py",
   "mimetype": "text/x-python",
   "name": "python",
   "nbconvert_exporter": "python",
   "pygments_lexer": "ipython3",
   "version": "3.11.5"
  }
 },
 "nbformat": 4,
 "nbformat_minor": 5
}
