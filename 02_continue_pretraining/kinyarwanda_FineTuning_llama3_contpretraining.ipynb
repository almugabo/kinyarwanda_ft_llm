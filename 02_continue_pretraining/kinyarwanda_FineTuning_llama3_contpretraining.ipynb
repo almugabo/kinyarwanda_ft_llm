{
 "cells": [
  {
   "cell_type": "markdown",
   "id": "d3179316",
   "metadata": {},
   "source": [
    "## Continue Pre-training Kinyarwanda \n",
    "\n",
    "\n",
    "this is an experimental notebook to fine-tune llama 3 for Kinyarwanda \n",
    "\n",
    "in this notebook we only try the \"continous pre-training\"\n",
    "\n",
    "(we leave it to later work the \"instruction-finetuning\"). \n",
    "\n",
    "\n",
    "we use \n",
    "- llama2-8b as basis model (a 4bit quantized version) \n",
    "- Unsloth as a fine-tuning framework \n",
    "- datasets: kinyarwanda - wikipedia & kinyarwanda news (see notebook on dataset about their preparation) \n",
    "\n",
    "\n"
   ]
  },
  {
   "cell_type": "code",
   "execution_count": null,
   "id": "664f907f",
   "metadata": {},
   "outputs": [],
   "source": [
    "#Import libraries \n",
    "\n",
    "from unsloth import FastLanguageModel\n",
    "import torch\n",
    "\n",
    "from transformers import TrainingArguments\n",
    "from unsloth import is_bfloat16_supported\n",
    "from unsloth import UnslothTrainer, UnslothTrainingArguments\n",
    "\n",
    "\n",
    "from datasets import load_dataset\n",
    "from datasets import Dataset\n",
    "\n",
    "import json \n",
    "import pandas as pd \n",
    "\n",
    "\n"
   ]
  },
  {
   "cell_type": "code",
   "execution_count": null,
   "id": "df56f98c",
   "metadata": {},
   "outputs": [],
   "source": []
  },
  {
   "cell_type": "markdown",
   "id": "44e2cc89",
   "metadata": {},
   "source": [
    "## 1 . loading the model & fine-tuning parameters "
   ]
  },
  {
   "cell_type": "code",
   "execution_count": null,
   "id": "01c7f601",
   "metadata": {},
   "outputs": [],
   "source": [
    "# we use unsloth & here we load the model \n",
    "\n",
    "max_seq_length = 2048 # this can be adapted for longer context \n",
    "dtype = None # the datatype will be auto-detected : Float16 for Tesla T4, V100, Bfloat16 for Ampere+\n",
    "load_in_4bit = True # we use 4bit quantization to reduce memory usage. \n",
    "\n",
    "\n",
    "xmodel = 'unsloth/llama-3-8b-bnb-4bit'\n",
    "\n",
    "model, tokenizer = FastLanguageModel.from_pretrained(\n",
    "    model_name = xmodel , \n",
    "    max_seq_length = max_seq_length,\n",
    "    dtype = dtype,\n",
    "    load_in_4bit = load_in_4bit,\n",
    ")\n",
    "\n"
   ]
  },
  {
   "cell_type": "code",
   "execution_count": null,
   "id": "5861e9bd",
   "metadata": {},
   "outputs": [],
   "source": []
  },
  {
   "cell_type": "code",
   "execution_count": null,
   "id": "089199ca",
   "metadata": {},
   "outputs": [],
   "source": [
    "## parameters \n",
    "\n",
    "model = FastLanguageModel.get_peft_model(\n",
    "    model,\n",
    "    r = 128, # Choose any number > 0 ! Suggested 8, 16, 32, 64, 128\n",
    "    target_modules = [\"q_proj\", \"k_proj\", \"v_proj\", \"o_proj\",\n",
    "                      \"gate_proj\", \"up_proj\", \"down_proj\",\n",
    "\n",
    "                      \"embed_tokens\", \"lm_head\",], # Add for continual pretraining\n",
    "    lora_alpha = 32,\n",
    "    lora_dropout = 0, # Supports any, but = 0 is optimized\n",
    "    bias = \"none\",    # Supports any, but = \"none\" is optimized\n",
    "    # [NEW] \"unsloth\" uses 30% less VRAM, fits 2x larger batch sizes!\n",
    "    use_gradient_checkpointing = \"unsloth\", # True or \"unsloth\" for very long context\n",
    "    random_state = 3407,\n",
    "    use_rslora = True,   # We support rank stabilized LoRA\n",
    "    loftq_config = None, # And LoftQ\n",
    ")"
   ]
  },
  {
   "cell_type": "code",
   "execution_count": null,
   "id": "b443557e",
   "metadata": {},
   "outputs": [],
   "source": []
  },
  {
   "cell_type": "markdown",
   "id": "eb2506ec",
   "metadata": {},
   "source": [
    "## 2 . loading the dataset \n",
    "\n",
    "see notebook **Kinyarwanda_Finetuning_Datasets** on how the datasets were created \n"
   ]
  },
  {
   "cell_type": "code",
   "execution_count": null,
   "id": "0a46a21f",
   "metadata": {},
   "outputs": [],
   "source": [
    "xfiles = ['kinyarwanda_monolingual_rwandannews.jsonl',\n",
    "          'kinyarwanda_monolingual_wikipedia20231101.jsonl']\n",
    "\n",
    "text_data = []\n",
    "\n",
    "for xfile in xfiles:\n",
    "    xfile_name = './_datasets/'+ xfile\n",
    "    with open(xfile_name, 'r') as file:\n",
    "        for line in file:\n",
    "            xjson = json.loads(line)\n",
    "            if xfile == 'kinyarwanda_monolingual_wikipedia20231101.jsonl':\n",
    "                xtext_field = xjson.get('title') + ' ' + xjson.get('text')\n",
    "            else:\n",
    "                xtext_field =  xjson.get('text')                \n",
    "                \n",
    "            xdict_text = {'text': xtext_field}\n",
    "            \n",
    "            \n",
    "            text_data.append(xdict_text)\n",
    "\n",
    "# into a dataset \n",
    "dataset = Dataset.from_pandas(pd.DataFrame(text_data))\n",
    "\n",
    "# shuffle \n",
    "\n",
    "dataset = dataset.shuffle(seed=42)\n",
    "\n",
    "print(len(dataset)) \n",
    "    "
   ]
  },
  {
   "cell_type": "code",
   "execution_count": null,
   "id": "12d9be6a",
   "metadata": {},
   "outputs": [],
   "source": [
    "dataset[1]"
   ]
  },
  {
   "cell_type": "markdown",
   "id": "b306edf9",
   "metadata": {},
   "source": [
    "## 3  Training arguments "
   ]
  },
  {
   "cell_type": "code",
   "execution_count": null,
   "id": "9535f4eb",
   "metadata": {},
   "outputs": [],
   "source": [
    "trainer = UnslothTrainer(\n",
    "    model = model,\n",
    "    tokenizer = tokenizer,\n",
    "    train_dataset = dataset,\n",
    "    dataset_text_field = \"text\",\n",
    "    max_seq_length = max_seq_length,\n",
    "    dataset_num_proc = 2,\n",
    "\n",
    "    args = UnslothTrainingArguments(\n",
    "        per_device_train_batch_size = 2,\n",
    "        gradient_accumulation_steps = 8,\n",
    "\n",
    "        # Use warmup_ratio and num_train_epochs for longer runs!\n",
    "        #max_steps = 120,\n",
    "        #warmup_steps = 10,\n",
    "        warmup_ratio = 0.1,\n",
    "        num_train_epochs = 2, \n",
    "\n",
    "        # Select a 2 to 10x smaller learning rate for the embedding matrices!\n",
    "        learning_rate = 5e-5,\n",
    "        embedding_learning_rate = 1e-5,\n",
    "\n",
    "        fp16 = not is_bfloat16_supported(),\n",
    "        bf16 = is_bfloat16_supported(),\n",
    "        logging_steps = 1,\n",
    "        optim = \"adamw_8bit\",\n",
    "        weight_decay = 0.01,\n",
    "        lr_scheduler_type = \"linear\",\n",
    "        seed = 3407,\n",
    "        output_dir = \"outputs\"\n",
    "    ))"
   ]
  },
  {
   "cell_type": "code",
   "execution_count": null,
   "id": "5769c555",
   "metadata": {},
   "outputs": [],
   "source": [
    "#@title Show current memory stats\n",
    "gpu_stats = torch.cuda.get_device_properties(0)\n",
    "start_gpu_memory = round(torch.cuda.max_memory_reserved() / 1024 / 1024 / 1024, 3)\n",
    "max_memory = round(gpu_stats.total_memory / 1024 / 1024 / 1024, 3)\n",
    "print(f\"GPU = {gpu_stats.name}. Max memory = {max_memory} GB.\")\n",
    "print(f\"{start_gpu_memory} GB of memory reserved.\")"
   ]
  },
  {
   "cell_type": "markdown",
   "id": "c4fccd5c",
   "metadata": {},
   "source": [
    "## train "
   ]
  },
  {
   "cell_type": "code",
   "execution_count": null,
   "id": "6de9287b",
   "metadata": {},
   "outputs": [],
   "source": [
    "trainer_stats = trainer.train()"
   ]
  },
  {
   "cell_type": "code",
   "execution_count": null,
   "id": "9d66acd0",
   "metadata": {},
   "outputs": [],
   "source": []
  },
  {
   "cell_type": "code",
   "execution_count": null,
   "id": "fe52cd83",
   "metadata": {},
   "outputs": [],
   "source": [
    "#@title Show final memory and time stats\n",
    "used_memory = round(torch.cuda.max_memory_reserved() / 1024 / 1024 / 1024, 3)\n",
    "used_memory_for_lora = round(used_memory - start_gpu_memory, 3)\n",
    "used_percentage = round(used_memory         /max_memory*100, 3)\n",
    "lora_percentage = round(used_memory_for_lora/max_memory*100, 3)\n",
    "print(f\"{trainer_stats.metrics['train_runtime']} seconds used for training.\")\n",
    "print(f\"{round(trainer_stats.metrics['train_runtime']/60, 2)} minutes used for training.\")\n",
    "print(f\"Peak reserved memory = {used_memory} GB.\")\n",
    "print(f\"Peak reserved memory for training = {used_memory_for_lora} GB.\")\n",
    "print(f\"Peak reserved memory % of max memory = {used_percentage} %.\")\n",
    "print(f\"Peak reserved memory for training % of max memory = {lora_percentage} %.\")"
   ]
  },
  {
   "cell_type": "code",
   "execution_count": null,
   "id": "fe74c96b",
   "metadata": {},
   "outputs": [],
   "source": []
  },
  {
   "cell_type": "code",
   "execution_count": null,
   "id": "840776c0",
   "metadata": {},
   "outputs": [],
   "source": []
  },
  {
   "cell_type": "markdown",
   "id": "5d7cfa3b",
   "metadata": {},
   "source": [
    "# inference "
   ]
  },
  {
   "cell_type": "code",
   "execution_count": null,
   "id": "95486080",
   "metadata": {},
   "outputs": [],
   "source": [
    "# alpaca_prompt = Copied from above\n",
    "FastLanguageModel.for_inference(model) # Enable native 2x faster inference\n",
    "inputs = tokenizer('Imana ', return_tensors = \"pt\").to(\"cuda\")\n",
    "\n",
    "outputs = model.generate(**inputs, max_new_tokens = 1000, use_cache = True)\n",
    "tokenizer.batch_decode(outputs)"
   ]
  },
  {
   "cell_type": "code",
   "execution_count": null,
   "id": "0316b42c",
   "metadata": {},
   "outputs": [],
   "source": [
    "xprompt = 'Umugabo yaraje abwira abantu ati '\n",
    "\n",
    "\n",
    "# alpaca_prompt = Copied from above\n",
    "FastLanguageModel.for_inference(model) # Enable native 2x faster inference\n",
    "inputs = tokenizer(xprompt, return_tensors = \"pt\").to(\"cuda\")\n",
    "\n",
    "outputs = model.generate(**inputs, max_new_tokens = 500, use_cache = False)\n",
    "q1 = tokenizer.batch_decode(outputs)\n",
    "\n",
    "print(q1[0])\n"
   ]
  },
  {
   "cell_type": "code",
   "execution_count": null,
   "id": "61a056ad",
   "metadata": {},
   "outputs": [],
   "source": [
    "# alpaca_prompt = Copied from above\n",
    "\n",
    "xprompt = '''mu gihugu cy'ubufaransa'''\n",
    "\n",
    "FastLanguageModel.for_inference(model) # Enable native 2x faster inference\n",
    "inputs = tokenizer(xprompt, return_tensors = \"pt\").to(\"cuda\")\n",
    "\n",
    "outputs = model.generate(**inputs, max_new_tokens = 500, use_cache = False)\n",
    "q1 = tokenizer.batch_decode(outputs)\n",
    "print(q1[0])"
   ]
  },
  {
   "cell_type": "code",
   "execution_count": null,
   "id": "cc08f047",
   "metadata": {},
   "outputs": [],
   "source": [
    "xprompt = '''amateka ya Afurika'''\n",
    "\n",
    "FastLanguageModel.for_inference(model) # Enable native 2x faster inference\n",
    "inputs = tokenizer(xprompt, return_tensors = \"pt\").to(\"cuda\")\n",
    "\n",
    "outputs = model.generate(**inputs, max_new_tokens = 500, use_cache = False)\n",
    "q1 = tokenizer.batch_decode(outputs)\n",
    "\n",
    "print(q1[0])"
   ]
  },
  {
   "cell_type": "code",
   "execution_count": null,
   "id": "474efdbf",
   "metadata": {},
   "outputs": [],
   "source": [
    "xprompt = '''Ejo bundi umugabo yaje nk'iya Gatera '''\n",
    "\n",
    "FastLanguageModel.for_inference(model) # Enable native 2x faster inference\n",
    "inputs = tokenizer(xprompt, return_tensors = \"pt\").to(\"cuda\")\n",
    "\n",
    "outputs = model.generate(**inputs, max_new_tokens = 500, use_cache = False)\n",
    "q1 = tokenizer.batch_decode(outputs)\n",
    "print(q1[0])"
   ]
  },
  {
   "cell_type": "code",
   "execution_count": null,
   "id": "83f57c42",
   "metadata": {},
   "outputs": [],
   "source": [
    "xprompt = '''the history of the persian empire  '''\n",
    "\n",
    "FastLanguageModel.for_inference(model) # Enable native 2x faster inference\n",
    "inputs = tokenizer(xprompt, return_tensors = \"pt\").to(\"cuda\")\n",
    "\n",
    "outputs = model.generate(**inputs, max_new_tokens = 500, use_cache = False)\n",
    "q1 = tokenizer.batch_decode(outputs)\n",
    "\n",
    "print(q1[0])"
   ]
  },
  {
   "cell_type": "code",
   "execution_count": null,
   "id": "024a2a84",
   "metadata": {},
   "outputs": [],
   "source": []
  },
  {
   "cell_type": "code",
   "execution_count": null,
   "id": "3bfa6c58",
   "metadata": {},
   "outputs": [],
   "source": []
  },
  {
   "cell_type": "code",
   "execution_count": null,
   "id": "e7323df7",
   "metadata": {},
   "outputs": [],
   "source": []
  },
  {
   "cell_type": "code",
   "execution_count": null,
   "id": "5900b231",
   "metadata": {},
   "outputs": [],
   "source": [
    "xprompt = '''umwana wange yarambwiye   '''\n",
    "xprompt = '''Ejo bundi umwana yagiye '''\n",
    "\n",
    "\n",
    "FastLanguageModel.for_inference(model) # Enable native 2x faster inference\n",
    "inputs = tokenizer(xprompt, return_tensors = \"pt\").to(\"cuda\")\n",
    "\n",
    "outputs = model.generate(**inputs, max_new_tokens = 256, use_cache = True)\n",
    "q1 = tokenizer.batch_decode(outputs)\n",
    "\n",
    "print(q1[0])"
   ]
  },
  {
   "cell_type": "markdown",
   "id": "fa75914b",
   "metadata": {},
   "source": [
    "## save model \n",
    "\n"
   ]
  },
  {
   "cell_type": "code",
   "execution_count": null,
   "id": "979bd04b",
   "metadata": {},
   "outputs": [],
   "source": [
    "model.save_pretrained(\"llamarwanda_rw_v1\") # Local saving\n",
    "tokenizer.save_pretrained(\"llamarwanda_rw_v1\")\n",
    "# model.push_to_hub(\"your_name/lora_model\", token = \"...\") # Online saving\n",
    "# tokenizer.push_to_hub(\"your_name/lora_model\", token = \"...\") # Online saving"
   ]
  },
  {
   "cell_type": "code",
   "execution_count": null,
   "id": "1b6aefc4",
   "metadata": {},
   "outputs": [],
   "source": []
  },
  {
   "cell_type": "markdown",
   "id": "9d4284a7",
   "metadata": {},
   "source": [
    "## SAVE FULL MODEL "
   ]
  },
  {
   "cell_type": "code",
   "execution_count": null,
   "id": "8bd553fb",
   "metadata": {},
   "outputs": [],
   "source": [
    "max_seq_length = 2048 # this can be adapted for longer context \n",
    "dtype = None # the datatype will be auto-detected : Float16 for Tesla T4, V100, Bfloat16 for Ampere+\n",
    "load_in_4bit = True # we use 4bit quantization to reduce memory usage. \n",
    "\n",
    "\n",
    "xmodel = 'unsloth/llama-3-8b-bnb-4bit'\n",
    "\n",
    "model, tokenizer = FastLanguageModel.from_pretrained(\n",
    "    model_name = xmodel , \n",
    "    max_seq_length = max_seq_length,\n",
    "    dtype = dtype,\n",
    "    load_in_4bit = load_in_4bit,\n",
    ")"
   ]
  },
  {
   "cell_type": "code",
   "execution_count": null,
   "id": "f1b921d3",
   "metadata": {},
   "outputs": [],
   "source": [
    "\n",
    "max_seq_length = 2048 # this can be adapted for longer context \n",
    "dtype = None # the datatype will be auto-detected : Float16 for Tesla T4, V100, Bfloat16 for Ampere+\n",
    "load_in_4bit = True # we use 4bit quantization to reduce memory usage. \n",
    "\n",
    "\n",
    "xmodel = '/home/mike/xGitHubRepos/kinyarwanda_ft_llm/02_continue_pretraining/llamarwanda_rw_v002'\n",
    "\n",
    "model, tokenizer = FastLanguageModel.from_pretrained(\n",
    "    model_name = xmodel , \n",
    "    max_seq_length = max_seq_length,\n",
    "    dtype = dtype,\n",
    "    load_in_4bit = load_in_4bit,\n",
    ")"
   ]
  },
  {
   "cell_type": "code",
   "execution_count": null,
   "id": "6083cec9",
   "metadata": {},
   "outputs": [],
   "source": [
    "FastLanguageModel.for_inference(model) # Enable native 2x faster inference"
   ]
  },
  {
   "cell_type": "markdown",
   "id": "b693a79b",
   "metadata": {},
   "source": [
    "#### test before testing "
   ]
  },
  {
   "cell_type": "code",
   "execution_count": null,
   "id": "2b8a4233",
   "metadata": {},
   "outputs": [],
   "source": []
  },
  {
   "cell_type": "code",
   "execution_count": null,
   "id": "48c50a57",
   "metadata": {},
   "outputs": [],
   "source": [
    "def complete_prompt(xprompt):\n",
    "    inputs = tokenizer(xprompt, return_tensors = \"pt\").to(\"cuda\")\n",
    "    outputs = model.generate(**inputs, max_new_tokens = 1000, use_cache = True)\n",
    "    q1 = tokenizer.batch_decode(outputs)\n",
    "    \n",
    "    return q1\n",
    "    "
   ]
  },
  {
   "cell_type": "code",
   "execution_count": null,
   "id": "7f7b448e",
   "metadata": {},
   "outputs": [],
   "source": [
    "xresp = complete_prompt(\"Umugaba w'ingabo\")[0]\n",
    "\n",
    "xresp"
   ]
  },
  {
   "cell_type": "code",
   "execution_count": null,
   "id": "6ba55eea",
   "metadata": {},
   "outputs": [],
   "source": [
    "model.save_pretrained_merged(\"llamarwanda_full_v002\", \n",
    "                             tokenizer, \n",
    "                             save_method = \"merged_16bit\",)\n",
    "\n",
    "\n"
   ]
  },
  {
   "cell_type": "markdown",
   "id": "2451c0ca",
   "metadata": {},
   "source": [
    "## save to hub \n",
    "\n",
    "### !! NOT DONE . we will save the second iteration of the model (more data, trained for more epoch and longer context size) \n",
    "\n"
   ]
  },
  {
   "cell_type": "code",
   "execution_count": null,
   "id": "adbe799e",
   "metadata": {},
   "outputs": [],
   "source": [
    "import sys\n",
    "import yaml\n",
    "\n",
    "#xConfigFile = 'C:/Users/mugabal/___MyFiles/xconfig.yaml'\n",
    "xConfigFile = '/home/mike/_____ConfigParameters/xconfig.yaml'\n",
    "with open(xConfigFile, 'r') as xstream:\n",
    "\txConfigParams = yaml.safe_load(xstream)\n",
    "\tsys.path.append(xConfigParams['xpath_scientopy'])\n",
    "\n",
    "\n",
    "xKey = xConfigParams.get('huggingface').get('api_write')"
   ]
  },
  {
   "cell_type": "code",
   "execution_count": null,
   "id": "877e0b03",
   "metadata": {},
   "outputs": [],
   "source": []
  },
  {
   "cell_type": "code",
   "execution_count": null,
   "id": "4995a7ae",
   "metadata": {},
   "outputs": [],
   "source": [
    "model.push_to_hub_merged(\"almugabo/kinyallm_base_llama3_v0\", \n",
    "                         tokenizer, \n",
    "                         save_method = \"merged_16bit\", token = xKey)\n",
    "\n",
    "print('OK')"
   ]
  },
  {
   "cell_type": "code",
   "execution_count": null,
   "id": "4d36ab33",
   "metadata": {},
   "outputs": [],
   "source": []
  },
  {
   "cell_type": "code",
   "execution_count": null,
   "id": "a48b97ea",
   "metadata": {},
   "outputs": [],
   "source": []
  }
 ],
 "metadata": {
  "kernelspec": {
   "display_name": "Python (xLLM_unsloth)",
   "language": "python",
   "name": "xllm_unsloth"
  },
  "language_info": {
   "codemirror_mode": {
    "name": "ipython",
    "version": 3
   },
   "file_extension": ".py",
   "mimetype": "text/x-python",
   "name": "python",
   "nbconvert_exporter": "python",
   "pygments_lexer": "ipython3",
   "version": "3.10.14"
  }
 },
 "nbformat": 4,
 "nbformat_minor": 5
}
